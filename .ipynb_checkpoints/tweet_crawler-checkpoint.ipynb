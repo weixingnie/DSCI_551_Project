{
 "cells": [
  {
   "cell_type": "code",
   "execution_count": 1,
   "id": "2d03ba25",
   "metadata": {},
   "outputs": [],
   "source": [
    "### All the package we might need to run this python script.\n",
    "import tika\n",
    "import csv\n",
    "import pandas as pd \n",
    "import requests as rq\n",
    "from bs4 import BeautifulSoup\n",
    "# Importing the Selenium libraries\n",
    "from selenium import webdriver\n",
    "from selenium.webdriver import Chrome\n",
    "from selenium.webdriver.chrome.options import Options\n",
    "from selenium.webdriver.common.action_chains import ActionChains\n",
    "from selenium.webdriver.common.keys import Keys \n",
    "from selenium.webdriver.support.ui import WebDriverWait\n",
    "from selenium.common.exceptions import TimeoutException\n",
    "from selenium.webdriver.support.ui import WebDriverWait\n",
    "from selenium.webdriver.support import expected_conditions as EC\n",
    "from selenium.webdriver.common.by import By\n",
    "import time\n",
    "import os"
   ]
  },
  {
   "cell_type": "code",
   "execution_count": 5,
   "id": "08efc35a",
   "metadata": {},
   "outputs": [],
   "source": [
    "options = webdriver.ChromeOptions()\n",
    "options.add_experimental_option('prefs', {\n",
    "        \"download.default_directory\": \"C:\\\\Users\\\\12069\\\\Desktop\\\\Master_courses\\\\Master 551\\\\\", #Change default directory for downloads\n",
    "        \"download.prompt_for_download\": False, #To auto download the file\n",
    "        \"download.directory_upgrade\": True,\n",
    "        \"plugins.always_open_pdf_externally\": True #It will not show PDF directly in chrome\n",
    "})\n",
    "options.add_argument(\"disable-notifications\")\n",
    "driver = webdriver.Chrome(options=options)\n",
    "test2_url = 'https://twitter.com/CAL_FIRE' \n",
    "driver.get(test2_url)\n",
    "driver.implicitly_wait(0.8)\n",
    "driver.get(test2_url)\n",
    "if driver.find_element_by_xpath(\"//button[text()='Accept All Cookies']\"):\n",
    "driver.find_element_by_xpath(\"//button[text()='Accept All Cookies']\").click()\n",
    "file = driver.find_element_by_id('downloadPdf')\n",
    "file.click()\n",
    "driver.implicitly_wait(0.8)\n",
    "driver.close()"
   ]
  },
  {
   "cell_type": "code",
   "execution_count": 4,
   "id": "4f852970",
   "metadata": {},
   "outputs": [],
   "source": [
    "options = webdriver.ChromeOptions()\n",
    "options.add_experimental_option('prefs', {\n",
    "        \"download.default_directory\": \"C:\\\\Users\\\\12069\\\\Desktop\\\\Master_courses\\\\Master 551\\\\\", #Change default directory for downloads\n",
    "        \"download.prompt_for_download\": False, #To auto download the file\n",
    "        \"download.directory_upgrade\": True,\n",
    "        \"plugins.always_open_pdf_externally\": True #It will not show PDF directly in chrome\n",
    "})\n",
    "options.add_argument(\"disable-notifications\")\n",
    "driver = webdriver.Chrome(options=options)\n",
    "test2_url = 'https://www.fire.ca.gov/incidents/' \n",
    "driver.get(test2_url)\n",
    "driver.implicitly_wait(1)\n",
    "file = driver.find_element_by_xpath('//*[@id=\"app-navbar\"]/div[3]/div[3]/div')\n",
    "file.click()\n",
    "download = driver.find_element_by_xpath('//*[@id=\"app-navbar\"]/div[3]/div[3]/div/div[1]/div/ul/li[1]')\n",
    "download.click()\n",
    "driver.close()"
   ]
  },
  {
   "cell_type": "code",
   "execution_count": null,
   "id": "787334b7",
   "metadata": {},
   "outputs": [],
   "source": []
  }
 ],
 "metadata": {
  "kernelspec": {
   "display_name": "Python 3 (ipykernel)",
   "language": "python",
   "name": "python3"
  },
  "language_info": {
   "codemirror_mode": {
    "name": "ipython",
    "version": 3
   },
   "file_extension": ".py",
   "mimetype": "text/x-python",
   "name": "python",
   "nbconvert_exporter": "python",
   "pygments_lexer": "ipython3",
   "version": "3.9.7"
  }
 },
 "nbformat": 4,
 "nbformat_minor": 5
}
